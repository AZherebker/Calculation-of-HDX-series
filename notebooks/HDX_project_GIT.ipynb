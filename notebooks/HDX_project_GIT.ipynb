{
 "cells": [
  {
   "cell_type": "code",
   "execution_count": 54,
   "metadata": {},
   "outputs": [
    {
     "name": "stdout",
     "output_type": "stream",
     "text": [
      "The autoreload extension is already loaded. To reload it, use:\n",
      "  %reload_ext autoreload\n"
     ]
    }
   ],
   "source": [
    "%load_ext autoreload\n",
    "%autoreload 2\n",
    "import numpy as np\n",
    "import pandas as pd\n",
    "from tqdm.notebook import tqdm\n",
    "from pathlib import Path\n",
    "from hdx.utils_series_HDX import find_series"
   ]
  },
  {
   "cell_type": "markdown",
   "metadata": {},
   "source": [
    "# Batch analysis for the number of exchanges for all samples from Pivot table"
   ]
  },
  {
   "cell_type": "markdown",
   "metadata": {},
   "source": [
    "## Load the dataset"
   ]
  },
  {
   "cell_type": "code",
   "execution_count": 55,
   "metadata": {},
   "outputs": [],
   "source": [
    "# Load the dataset using pathlib's Path\n",
    "file_path = Path('../data/Test-samples.csv')  # Update to your relevant path\n",
    "\n",
    "# Check if file exists\n",
    "if file_path.is_file():\n",
    "    data = pd.read_csv(file_path, sep=',')  # Assuming comma as a separator\n",
    "else:\n",
    "    raise FileNotFoundError(f\"File {file_path} not found!\")\n"
   ]
  },
  {
   "cell_type": "markdown",
   "metadata": {},
   "source": [
    "## Process original data"
   ]
  },
  {
   "cell_type": "code",
   "execution_count": 56,
   "metadata": {
    "scrolled": true
   },
   "outputs": [
    {
     "data": {
      "text/html": [
       "<div>\n",
       "<style scoped>\n",
       "    .dataframe tbody tr th:only-of-type {\n",
       "        vertical-align: middle;\n",
       "    }\n",
       "\n",
       "    .dataframe tbody tr th {\n",
       "        vertical-align: top;\n",
       "    }\n",
       "\n",
       "    .dataframe thead th {\n",
       "        text-align: right;\n",
       "    }\n",
       "</style>\n",
       "<table border=\"1\" class=\"dataframe\">\n",
       "  <thead>\n",
       "    <tr style=\"text-align: right;\">\n",
       "      <th></th>\n",
       "      <th>mz</th>\n",
       "      <th>MF</th>\n",
       "      <th>c</th>\n",
       "      <th>h</th>\n",
       "      <th>o</th>\n",
       "      <th>n</th>\n",
       "      <th>s</th>\n",
       "      <th>Test_sample_1</th>\n",
       "      <th>Test_sample_2</th>\n",
       "      <th>AI</th>\n",
       "      <th>DBE</th>\n",
       "      <th>O/C</th>\n",
       "      <th>H/C</th>\n",
       "      <th>class</th>\n",
       "      <th>AI_class</th>\n",
       "    </tr>\n",
       "  </thead>\n",
       "  <tbody>\n",
       "    <tr>\n",
       "      <th>0</th>\n",
       "      <td>123.008765</td>\n",
       "      <td>C6H4O3</td>\n",
       "      <td>6</td>\n",
       "      <td>4</td>\n",
       "      <td>3</td>\n",
       "      <td>0</td>\n",
       "      <td>0</td>\n",
       "      <td>0.242446</td>\n",
       "      <td>0.009707</td>\n",
       "      <td>0.800000</td>\n",
       "      <td>5</td>\n",
       "      <td>0.500000</td>\n",
       "      <td>0.666667</td>\n",
       "      <td>CHO</td>\n",
       "      <td>condensed</td>\n",
       "    </tr>\n",
       "    <tr>\n",
       "      <th>1</th>\n",
       "      <td>125.024415</td>\n",
       "      <td>C6H6O3</td>\n",
       "      <td>6</td>\n",
       "      <td>6</td>\n",
       "      <td>3</td>\n",
       "      <td>0</td>\n",
       "      <td>0</td>\n",
       "      <td>0.171305</td>\n",
       "      <td>0.011602</td>\n",
       "      <td>0.600000</td>\n",
       "      <td>4</td>\n",
       "      <td>0.500000</td>\n",
       "      <td>1.000000</td>\n",
       "      <td>CHO</td>\n",
       "      <td>aromatic</td>\n",
       "    </tr>\n",
       "    <tr>\n",
       "      <th>2</th>\n",
       "      <td>125.060800</td>\n",
       "      <td>C7H10O2</td>\n",
       "      <td>7</td>\n",
       "      <td>10</td>\n",
       "      <td>2</td>\n",
       "      <td>0</td>\n",
       "      <td>0</td>\n",
       "      <td>0.218891</td>\n",
       "      <td>0.012492</td>\n",
       "      <td>0.333333</td>\n",
       "      <td>3</td>\n",
       "      <td>0.285714</td>\n",
       "      <td>1.428571</td>\n",
       "      <td>CHO</td>\n",
       "      <td>unsaturated</td>\n",
       "    </tr>\n",
       "    <tr>\n",
       "      <th>3</th>\n",
       "      <td>126.019664</td>\n",
       "      <td>C5H5O3N</td>\n",
       "      <td>5</td>\n",
       "      <td>5</td>\n",
       "      <td>3</td>\n",
       "      <td>1</td>\n",
       "      <td>0</td>\n",
       "      <td>0.023526</td>\n",
       "      <td>0.005790</td>\n",
       "      <td>0.666667</td>\n",
       "      <td>4</td>\n",
       "      <td>0.600000</td>\n",
       "      <td>1.000000</td>\n",
       "      <td>CHON</td>\n",
       "      <td>condensed</td>\n",
       "    </tr>\n",
       "    <tr>\n",
       "      <th>4</th>\n",
       "      <td>127.040065</td>\n",
       "      <td>C6H8O3</td>\n",
       "      <td>6</td>\n",
       "      <td>8</td>\n",
       "      <td>3</td>\n",
       "      <td>0</td>\n",
       "      <td>0</td>\n",
       "      <td>0.246685</td>\n",
       "      <td>0.014441</td>\n",
       "      <td>0.400000</td>\n",
       "      <td>3</td>\n",
       "      <td>0.500000</td>\n",
       "      <td>1.333333</td>\n",
       "      <td>CHO</td>\n",
       "      <td>unsaturated</td>\n",
       "    </tr>\n",
       "  </tbody>\n",
       "</table>\n",
       "</div>"
      ],
      "text/plain": [
       "           mz       MF  c   h  o  n  s  Test_sample_1  Test_sample_2  \\\n",
       "0  123.008765   C6H4O3  6   4  3  0  0       0.242446       0.009707   \n",
       "1  125.024415   C6H6O3  6   6  3  0  0       0.171305       0.011602   \n",
       "2  125.060800  C7H10O2  7  10  2  0  0       0.218891       0.012492   \n",
       "3  126.019664  C5H5O3N  5   5  3  1  0       0.023526       0.005790   \n",
       "4  127.040065   C6H8O3  6   8  3  0  0       0.246685       0.014441   \n",
       "\n",
       "         AI  DBE       O/C       H/C class     AI_class  \n",
       "0  0.800000    5  0.500000  0.666667   CHO    condensed  \n",
       "1  0.600000    4  0.500000  1.000000   CHO     aromatic  \n",
       "2  0.333333    3  0.285714  1.428571   CHO  unsaturated  \n",
       "3  0.666667    4  0.600000  1.000000  CHON    condensed  \n",
       "4  0.400000    3  0.500000  1.333333   CHO  unsaturated  "
      ]
     },
     "execution_count": 56,
     "metadata": {},
     "output_type": "execute_result"
    }
   ],
   "source": [
    "# Process data: Sort, reset index, and rename columns\n",
    "data = data.sort_values('M').reset_index(drop=True)\n",
    "data['M'] = data['M'] - 1.00728  # Adjusting for neutral masses if needed\n",
    "\n",
    "# Renaming columns for readability\n",
    "data.rename(columns={\"M\": \"mz\", \"C\": 'c', \"H\": 'h', \"O\": 'o', \"N\": 'n', 'S': 's'}, inplace=True)\n",
    "\n",
    "# Check processed data\n",
    "data.head()\n"
   ]
  },
  {
   "cell_type": "code",
   "execution_count": 57,
   "metadata": {},
   "outputs": [
    {
     "data": {
      "text/plain": [
       "15"
      ]
     },
     "execution_count": 57,
     "metadata": {},
     "output_type": "execute_result"
    }
   ],
   "source": [
    "l = len(data.columns.values)\n",
    "l"
   ]
  },
  {
   "cell_type": "markdown",
   "metadata": {},
   "source": [
    "## Loading H/D data"
   ]
  },
  {
   "cell_type": "code",
   "execution_count": 58,
   "metadata": {},
   "outputs": [
    {
     "data": {
      "text/plain": [
       "['HDX_1', 'HDX_2']"
      ]
     },
     "execution_count": 58,
     "metadata": {},
     "output_type": "execute_result"
    }
   ],
   "source": [
    "#D2O path using pathlib's Path\n",
    "D2O_path = Path(\"../data/\")\n",
    "\n",
    "# List all files in the directory that contain \"HDX\"\n",
    "D2O_files = [i.stem for i in D2O_path.iterdir() if \"HDX\" in i.name]\n",
    "\n",
    "D2O_files"
   ]
  },
  {
   "cell_type": "markdown",
   "metadata": {},
   "source": [
    "# Calculating and adding H/D data"
   ]
  },
  {
   "cell_type": "markdown",
   "metadata": {},
   "source": [
    "## Parameters"
   ]
  },
  {
   "cell_type": "code",
   "execution_count": 59,
   "metadata": {},
   "outputs": [],
   "source": [
    "Err = 0.0001 ### set the error with which you search for hdx series. Use Xcalibur to choose conservative value \n",
    "\n",
    "mz_accrcy = 0.1 ##window for serching peak within expected mass. Don't have to change it\n",
    "\n",
    "d = 1.00628 # deiterium mass"
   ]
  },
  {
   "cell_type": "markdown",
   "metadata": {},
   "source": [
    "## Adding H/D data"
   ]
  },
  {
   "cell_type": "code",
   "execution_count": 68,
   "metadata": {},
   "outputs": [
    {
     "name": "stdout",
     "output_type": "stream",
     "text": [
      "\t1 out of 2\n"
     ]
    },
    {
     "name": "stderr",
     "output_type": "stream",
     "text": [
      "Finding series: 100%|██████████████████████████████████████████████████████████████████████████████████████████████████████████████████████████████████████████████████| 2141/2141 [00:05<00:00, 394.76it/s]\n",
      "2024-09-19 16:28:41,622 - INFO - 2141\n"
     ]
    },
    {
     "name": "stdout",
     "output_type": "stream",
     "text": [
      "\t2 out of 2\n"
     ]
    },
    {
     "name": "stderr",
     "output_type": "stream",
     "text": [
      "Finding series: 100%|██████████████████████████████████████████████████████████████████████████████████████████████████████████████████████████████████████████████████| 2141/2141 [00:05<00:00, 376.79it/s]\n",
      "2024-09-19 16:28:47,362 - INFO - 2141\n"
     ]
    }
   ],
   "source": [
    "# Loop through the files and append new columns directly to the original dataframe\n",
    "for idx, file_name in enumerate(D2O_files, start=1):\n",
    "    print(f\"\\t{idx} out of {len(D2O_files)}\")\n",
    "    \n",
    "    hdx_path = D2O_path / f\"{file_name}.csv\"\n",
    "    hdx = pd.read_csv(hdx_path, sep=\",\", skiprows=1, header=None)\n",
    "    \n",
    "    hdx.columns = [\"mz\", \"int\"]\n",
    "    hdx.dropna(inplace=True)\n",
    "    hdx.reset_index(drop=True, inplace=True)\n",
    "    \n",
    "    data_w_hdx1, _ = find_series(data, hdx, Err, mz_accrcy, d)\n",
    "    \n",
    "    # Add the new column to the original data\n",
    "    data[f'{file_name}_D'] = data_w_hdx1['H_Labile']"
   ]
  },
  {
   "cell_type": "code",
   "execution_count": 53,
   "metadata": {},
   "outputs": [],
   "source": [
    "data.to_csv(\"../results/Results-HDX.csv\")"
   ]
  },
  {
   "cell_type": "code",
   "execution_count": null,
   "metadata": {},
   "outputs": [],
   "source": []
  }
 ],
 "metadata": {
  "kernelspec": {
   "display_name": "Python 3 (ipykernel)",
   "language": "python",
   "name": "python3"
  },
  "language_info": {
   "codemirror_mode": {
    "name": "ipython",
    "version": 3
   },
   "file_extension": ".py",
   "mimetype": "text/x-python",
   "name": "python",
   "nbconvert_exporter": "python",
   "pygments_lexer": "ipython3",
   "version": "3.11.5"
  }
 },
 "nbformat": 4,
 "nbformat_minor": 4
}
